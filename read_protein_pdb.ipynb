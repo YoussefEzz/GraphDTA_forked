{
 "cells": [
  {
   "cell_type": "code",
   "execution_count": 140,
   "metadata": {},
   "outputs": [],
   "source": [
    "from Bio import PDB"
   ]
  },
  {
   "cell_type": "code",
   "execution_count": 141,
   "metadata": {},
   "outputs": [],
   "source": [
    "from Bio.PDB import PPBuilder\n",
    "def pdb_to_sequence(pdb_file):\n",
    "    parser = PDB.PDBParser()\n",
    "    structure = parser.get_structure(\"protein\", pdb_file)\n",
    "\n",
    "    # Initialize an empty sequence string\n",
    "    sequence = []\n",
    "\n",
    "    # Iterate over all chains in the structure\n",
    "    for model in structure:\n",
    "        for chain in model:\n",
    "            if(len(PPBuilder().build_peptides(chain)) > 0):\n",
    "                sequence.append(PPBuilder().build_peptides(chain)[0].get_sequence())\n",
    "\n",
    "    return sequence"
   ]
  },
  {
   "cell_type": "code",
   "execution_count": 142,
   "metadata": {},
   "outputs": [
    {
     "name": "stdout",
     "output_type": "stream",
     "text": [
      "SGFRKMAFPSGKVEGCMVQVTCGTTTLNGLWLDDVVYCPRHVICTSEDMLNPNYEDLLIRKSNHNFLVQAGNVQLRVIGHSMQNCVLKLKVDTANPKTPKYKFVRIQPGQTFSVLACYNGSPSGVYQCAMRPNFTIKGSFLNGSCGSVGFNIDYDCVSFCYMHHMELPTGVHAGTDLEGNFYGPFVDRQTAQAAGTDTTITVNVLAWLYAAVINGDRWFLNRFTTTLNDFNLVAMKYNYEPLTQDHVDILGPLSAQTGIAVLDMCASLKELLQNGMNGRTILGSALLEDEFTPFDVVRQCSGVT\n"
     ]
    }
   ],
   "source": [
    "# Example usage Mpro-x12696, Mpro-x12143\n",
    "pdb_file = \"PDB_URV_Database/Protein/Mpro-x12143_protein.pdb\"\n",
    "protein_sequence = pdb_to_sequence(pdb_file)\n",
    "print(protein_sequence[0])\n"
   ]
  }
 ],
 "metadata": {
  "kernelspec": {
   "display_name": "Python 3",
   "language": "python",
   "name": "python3"
  },
  "language_info": {
   "codemirror_mode": {
    "name": "ipython",
    "version": 3
   },
   "file_extension": ".py",
   "mimetype": "text/x-python",
   "name": "python",
   "nbconvert_exporter": "python",
   "pygments_lexer": "ipython3",
   "version": "3.10.10"
  }
 },
 "nbformat": 4,
 "nbformat_minor": 2
}
