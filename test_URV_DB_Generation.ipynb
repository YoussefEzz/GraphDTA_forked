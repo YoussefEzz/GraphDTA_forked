{
 "cells": [
  {
   "cell_type": "code",
   "execution_count": 1,
   "metadata": {},
   "outputs": [
    {
     "name": "stderr",
     "output_type": "stream",
     "text": [
      "[06:38:09] Explicit valence for atom # 5 N, 4, is greater than permitted\n"
     ]
    },
    {
     "name": "stdout",
     "output_type": "stream",
     "text": [
      "Error: Explicit valence for atom # 5 N, 4, is greater than permitted\n",
      "file data/urv_fold1_train.csv generated.\n",
      "file data/urv_fold1_test.csv generated.\n",
      "file data/urv_fold2_train.csv generated.\n",
      "file data/urv_fold2_test.csv generated.\n"
     ]
    }
   ],
   "source": [
    "# test URV DB Generation\n",
    "from URV_DB import DB_Generation\n",
    "import os\n",
    "URV_datapath = \"PDB_URV_Database\"\n",
    "URV_output_folderpath = \"data\"\n",
    "DB_Generation(URV_datapath, URV_output_folderpath, k_folds = 2)"
   ]
  },
  {
   "cell_type": "code",
   "execution_count": null,
   "metadata": {},
   "outputs": [],
   "source": [
    "import pandas as pd\n",
    "import seaborn as sns\n",
    "import matplotlib.pyplot as plt\n",
    "import numpy as np\n",
    "\n",
    "URV_datapath = \"PDB_URV_Database\"\n",
    "URV_affinity_filepath = URV_datapath + '/Affinity.txt'\n",
    "\n",
    "# Read the Affinity TXT file into a dataframe\n",
    "dataframe = pd.read_csv(URV_affinity_filepath,sep=r'\\s+',header=None)  # Use the appropriate delimiter if your file is not tab-separated\n",
    "\n",
    "column_names = dataframe.columns.tolist()\n",
    "print(column_names)\n",
    "\n",
    "# Select the first column\n",
    "protiens = dataframe.iloc[:, 0]\n",
    "print(protiens)\n",
    "\n",
    "# Select the first column\n",
    "affinity = dataframe.iloc[:, 1]\n",
    "print(affinity)"
   ]
  },
  {
   "cell_type": "code",
   "execution_count": null,
   "metadata": {},
   "outputs": [],
   "source": [
    "import seaborn as sns\n",
    "import matplotlib.pyplot as plt\n",
    "import numpy as np\n",
    "\n",
    "# Sample data\n",
    "np.random.seed(10)\n",
    "data = affinity\n",
    "print(data)\n",
    "\n",
    "# Create a boxplot\n",
    "sns.boxplot(data=data, width = 0.1, fill= False)\n",
    "\n",
    "# Add the points\n",
    "# For visual clarity, jitter the points along the x-axis\n",
    "x = np.random.normal(0, 0.01, size=len(data)) # add some jitter\n",
    "plt.scatter(x, data, color='red', alpha=0.6)\n",
    "\n",
    "# Set labels and title\n",
    "plt.xlabel(f'(n={len(affinity)})')\n",
    "plt.ylabel('affinity')\n",
    "plt.title('Box Plot for Drug Protein affinity')\n",
    "\n",
    "# Show plot\n",
    "plt.show()"
   ]
  },
  {
   "cell_type": "code",
   "execution_count": null,
   "metadata": {},
   "outputs": [],
   "source": [
    "import matplotlib.pyplot as plt\n",
    "import numpy as np\n",
    "\n",
    "# Sample data\n",
    "np.random.seed(10)\n",
    "data = np.random.normal(size=1000)\n",
    "\n",
    "# Create histogram\n",
    "plt.hist(affinity, bins=20, alpha=0.7, color='blue', edgecolor='black')\n",
    "\n",
    "# Add title and labels\n",
    "plt.title('Histogram')\n",
    "plt.xlabel('Value')\n",
    "plt.ylabel('Frequency')\n",
    "\n",
    "# Show plot\n",
    "plt.show()"
   ]
  }
 ],
 "metadata": {
  "kernelspec": {
   "display_name": "Python 3",
   "language": "python",
   "name": "python3"
  },
  "language_info": {
   "codemirror_mode": {
    "name": "ipython",
    "version": 3
   },
   "file_extension": ".py",
   "mimetype": "text/x-python",
   "name": "python",
   "nbconvert_exporter": "python",
   "pygments_lexer": "ipython3",
   "version": "3.10.10"
  }
 },
 "nbformat": 4,
 "nbformat_minor": 2
}
